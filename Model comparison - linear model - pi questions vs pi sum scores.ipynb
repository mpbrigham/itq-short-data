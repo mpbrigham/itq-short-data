{
 "cells": [
  {
   "cell_type": "markdown",
   "metadata": {},
   "source": [
    "# Model comparison - linear model - pi questions vs pi sum scores\n",
    "\n",
    "## Environment initialization"
   ]
  },
  {
   "cell_type": "code",
   "execution_count": null,
   "metadata": {},
   "outputs": [],
   "source": [
    "%matplotlib notebook\n",
    "\n",
    "import numpy as np\n",
    "import matplotlib.pyplot as plt\n",
    "import pandas as pd\n",
    "\n",
    "import mod_evaluation\n",
    "import mod_viewer\n",
    "\n",
    "fig_w, fig_h = (4.5, 3.5)\n",
    "plt.rcParams.update({'figure.figsize': (fig_w, fig_h)})"
   ]
  },
  {
   "cell_type": "markdown",
   "metadata": {},
   "source": [
    "## Notebook variables"
   ]
  },
  {
   "cell_type": "code",
   "execution_count": null,
   "metadata": {},
   "outputs": [],
   "source": [
    "results_folder = 'data/results'"
   ]
  },
  {
   "cell_type": "markdown",
   "metadata": {},
   "source": [
    "## Load results"
   ]
  },
  {
   "cell_type": "code",
   "execution_count": null,
   "metadata": {},
   "outputs": [],
   "source": [
    "questions_info_best = mod_evaluation.from_cache(\n",
    "    'questions_drop_pi_info_best',\n",
    "    results_folder\n",
    ")\n",
    "\n",
    "questions_stats_best = mod_evaluation.from_cache(\n",
    "    'questions_drop_pi_stats_best', \n",
    "    results_folder\n",
    ")\n",
    "\n",
    "sum_score_stats_multi = mod_evaluation.from_cache(\n",
    "    'sum_score_drop_pi_stats_multi', \n",
    "    results_folder\n",
    ")\n",
    "\n",
    "df_questions = mod_viewer.get_df_questions(\n",
    "    questions_stats_best,\n",
    "    questions_info_best\n",
    ")\n",
    "\n",
    "df_sumscores_multi = mod_viewer.get_df_sumscores(sum_score_stats_multi)"
   ]
  },
  {
   "cell_type": "markdown",
   "metadata": {},
   "source": [
    "## Model comparison table"
   ]
  },
  {
   "cell_type": "code",
   "execution_count": null,
   "metadata": {},
   "outputs": [],
   "source": [
    "mod_viewer.comparison_table(\n",
    "    sum_score_stats_multi, \n",
    "    df_questions, \n",
    "    df_sumscores_multi\n",
    ")"
   ]
  },
  {
   "cell_type": "markdown",
   "metadata": {},
   "source": [
    "## Model comparison plots"
   ]
  },
  {
   "cell_type": "code",
   "execution_count": null,
   "metadata": {},
   "outputs": [],
   "source": [
    "my_figs = mod_viewer.comparison_plot(\n",
    "    sum_score_stats_multi,\n",
    "    df_questions,\n",
    "    df_sumscores_multi\n",
    ")"
   ]
  },
  {
   "cell_type": "markdown",
   "metadata": {},
   "source": [
    "## Model comparison plots (old)"
   ]
  },
  {
   "cell_type": "code",
   "execution_count": null,
   "metadata": {
    "scrolled": false
   },
   "outputs": [],
   "source": [
    "fig = mod_viewer.comparison_plot_old(\n",
    "    questions_stats_best,\n",
    "    questions_info_best,\n",
    "    sum_score_stats_multi\n",
    ")"
   ]
  }
 ],
 "metadata": {
  "kernelspec": {
   "display_name": "Python 3",
   "language": "python",
   "name": "python3"
  },
  "language_info": {
   "codemirror_mode": {
    "name": "ipython",
    "version": 3
   },
   "file_extension": ".py",
   "mimetype": "text/x-python",
   "name": "python",
   "nbconvert_exporter": "python",
   "pygments_lexer": "ipython3",
   "version": "3.5.2"
  }
 },
 "nbformat": 4,
 "nbformat_minor": 2
}
