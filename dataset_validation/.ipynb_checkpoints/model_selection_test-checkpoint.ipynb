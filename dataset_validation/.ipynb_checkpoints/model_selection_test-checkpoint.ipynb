{
 "cells": [
  {
   "cell_type": "markdown",
   "metadata": {},
   "source": [
    "# Model selection - drop questionnaire items\n",
    "\n",
    "https://www.ncbi.nlm.nih.gov/pmc/articles/PMC5019184/"
   ]
  },
  {
   "cell_type": "markdown",
   "metadata": {},
   "source": [
    "## Environment initialization"
   ]
  },
  {
   "cell_type": "code",
   "execution_count": 1,
   "metadata": {},
   "outputs": [
    {
     "data": {
      "application/javascript": [
       "IPython.notebook.set_autosave_interval(0)"
      ]
     },
     "metadata": {},
     "output_type": "display_data"
    },
    {
     "name": "stdout",
     "output_type": "stream",
     "text": [
      "Autosave disabled\n"
     ]
    }
   ],
   "source": [
    "from __future__ import division, print_function\n",
    "\n",
    "%autosave 0\n",
    "%matplotlib notebook\n",
    "%load_ext autoreload\n",
    "%autoreload 2\n",
    "\n",
    "import numpy as np\n",
    "import os\n",
    "import sklearn as sk\n",
    "from sklearn import preprocessing\n",
    "import pandas as pd\n",
    "\n",
    "import sys\n",
    "sys.path.append(\"../\")\n",
    "\n",
    "import mod_data\n",
    "import mod_evaluation\n",
    "import mod_compute\n",
    "import mod_viewer\n",
    "import mod_latent"
   ]
  },
  {
   "cell_type": "markdown",
   "metadata": {},
   "source": [
    "## Notebook variables"
   ]
  },
  {
   "cell_type": "code",
   "execution_count": 2,
   "metadata": {},
   "outputs": [],
   "source": [
    "data_path = '../data/source/all_data_wide.csv'\n",
    "\n",
    "metric_eval = 'val_categorical_accuracy'"
   ]
  },
  {
   "cell_type": "markdown",
   "metadata": {},
   "source": [
    "## Execution params"
   ]
  },
  {
   "cell_type": "code",
   "execution_count": 3,
   "metadata": {
    "tags": [
     "parameters"
    ]
   },
   "outputs": [],
   "source": [
    "results_path = 'data/results'\n",
    "\n",
    "q_exc = []\n",
    "\n",
    "metric_id = 'categorical_accuracy_class'\n",
    "\n",
    "model_ref_id = 'linear'\n",
    "model_ref_kwargs = {}\n",
    "\n",
    "scaling = None\n",
    "\n",
    "n_splits = 25\n",
    "drop_max = 100\n",
    "\n",
    "train = 0\n",
    "test_size = 200\n",
    "\n",
    "save_stats = False"
   ]
  },
  {
   "cell_type": "markdown",
   "metadata": {},
   "source": [
    "## Running params"
   ]
  },
  {
   "cell_type": "code",
   "execution_count": 4,
   "metadata": {},
   "outputs": [
    {
     "name": "stdout",
     "output_type": "stream",
     "text": [
      "evaluating model_linear_categorical_accuracy_class_25_r20\n"
     ]
    }
   ],
   "source": [
    "model_ref = mod_compute.models[model_ref_id]\n",
    "cache_pre = 'model_'+model_ref_id"
   ]
  },
  {
   "cell_type": "markdown",
   "metadata": {},
   "source": [
    "## Model search"
   ]
  },
  {
   "cell_type": "code",
   "execution_count": 8,
   "metadata": {
    "scrolled": false
   },
   "outputs": [
    {
     "data": {
      "application/vnd.jupyter.widget-view+json": {
       "model_id": "55c7798058c74cbfa95135407666132e",
       "version_major": 2,
       "version_minor": 0
      },
      "text/plain": [
       "HBox(children=(FloatProgress(value=0.0), Output()))"
      ]
     },
     "metadata": {},
     "output_type": "display_data"
    },
    {
     "name": "stdout",
     "output_type": "stream",
     "text": [
      "drop_q\t drop_sum\tval_acc_m (val_acc_min - val_acc_max)\t name\n",
      "\n",
      "1 \t 16 \t\t0.9575 \t(0.7778 - 1.0000) \t\t BISBAS_0020\n",
      "2 \t 16 \t\t0.9688 \t(0.9000 - 1.0000) \t\t 1 + PANAS_0008\n",
      "3 \t 16 \t\t0.9649 \t(0.8556 - 1.0000) \t\t 2 + MIPIP_0009\n",
      "4 \t 16 \t\t0.9742 \t(0.8750 - 1.0000) \t\t 3 + ACS_0002\n",
      "5 \t 16 \t\t0.9755 \t(0.8778 - 1.0000) \t\t 4 + RPA_0004\n",
      "6 \t 16 \t\t0.9713 \t(0.8000 - 1.0000) \t\t 5 + ACS_0024\n",
      "7 \t 16 \t\t0.9772 \t(0.8750 - 1.0000) \t\t 6 + FIRST_0004\n",
      "8 \t 16 \t\t0.9761 \t(0.8750 - 1.0000) \t\t 7 + ACS_0017\n",
      "9 \t 16 \t\t0.9629 \t(0.7714 - 1.0000) \t\t 8 + FSS_0002\n",
      "10 \t 16 \t\t0.9731 \t(0.8333 - 1.0000) \t\t 9 + PANAS_0006\n",
      "11 \t 16 \t\t0.9759 \t(0.8778 - 1.0000) \t\t 10 + TEPS_0011\n",
      "12 \t 16 \t\t0.9784 \t(0.8861 - 1.0000) \t\t 11 + ACS_0008\n",
      "13 \t 16 \t\t0.9729 \t(0.8750 - 1.0000) \t\t 12 + PSAS_0006\n",
      "14 \t 16 \t\t0.9784 \t(0.8528 - 1.0000) \t\t 13 + ACS_0010\n",
      "15 \t 16 \t\t0.9752 \t(0.7889 - 1.0000) \t\t 14 + FSS_0005\n",
      "16 \t 16 \t\t0.9768 \t(0.8111 - 1.0000) \t\t 15 + RRS_0024\n",
      "17 \t 16 \t\t0.9734 \t(0.8000 - 1.0000) \t\t 16 + FSS_0007\n",
      "18 \t 16 \t\t0.9741 \t(0.8000 - 1.0000) \t\t 17 + ACS_0012\n",
      "19 \t 16 \t\t0.9741 \t(0.8000 - 1.0000) \t\t 18 + PSAS_0014\n",
      "20 \t 16 \t\t0.9754 \t(0.8667 - 1.0000) \t\t 19 + FSS_0001\n",
      "21 \t 16 \t\t0.9813 \t(0.8714 - 1.0000) \t\t 20 + ACS_0006\n",
      "22 \t 16 \t\t0.9742 \t(0.8000 - 1.0000) \t\t 21 + CTQ_0004\n",
      "23 \t 16 \t\t0.9745 \t(0.8750 - 1.0000) \t\t 22 + TEPS_0009\n",
      "24 \t 16 \t\t0.9833 \t(0.9083 - 1.0000) \t\t 23 + PANAS_0003\n",
      "25 \t 16 \t\t0.9779 \t(0.8778 - 1.0000) \t\t 24 + ACS_0019\n",
      "26 \t 16 \t\t0.9839 \t(0.9000 - 1.0000) \t\t 25 + FSS_0003\n",
      "27 \t 16 \t\t0.9726 \t(0.8000 - 1.0000) \t\t 26 + RPA_0016\n",
      "28 \t 16 \t\t0.9849 \t(0.9270 - 1.0000) \t\t 27 + BISBAS_0005\n",
      "29 \t 16 \t\t0.9806 \t(0.8333 - 1.0000) \t\t 28 + TEPS_0014\n",
      "30 \t 16 \t\t0.9766 \t(0.7778 - 1.0000) \t\t 29 + ACS_0022\n",
      "31 \t 16 \t\t0.9818 \t(0.8889 - 1.0000) \t\t 30 + PANAS_0009\n",
      "32 \t 16 \t\t0.9784 \t(0.8667 - 1.0000) \t\t 31 + BISBAS_0012\n",
      "33 \t 16 \t\t0.9782 \t(0.8750 - 1.0000) \t\t 32 + RRS_0010\n",
      "34 \t 16 \t\t0.9752 \t(0.8583 - 1.0000) \t\t 33 + PSAS_0003\n",
      "35 \t 16 \t\t0.9777 \t(0.8750 - 1.0000) \t\t 34 + ACS_0011\n",
      "36 \t 16 \t\t0.9800 \t(0.9000 - 1.0000) \t\t 35 + PSAS_0002\n",
      "37 \t 16 \t\t0.9749 \t(0.9000 - 1.0000) \t\t 36 + CTQ_0025\n",
      "38 \t 16 \t\t0.9797 \t(0.8333 - 1.0000) \t\t 37 + FIRST_0003\n",
      "39 \t 16 \t\t0.9815 \t(0.9111 - 1.0000) \t\t 38 + CTQ_0011\n",
      "40 \t 16 \t\t0.9819 \t(0.8889 - 1.0000) \t\t 39 + ACS_0009\n",
      "41 \t 16 \t\t0.9677 \t(0.8333 - 1.0000) \t\t 40 + CTQ_0023\n",
      "42 \t 16 \t\t0.9730 \t(0.8333 - 1.0000) \t\t 41 + FIRST_0009\n",
      "43 \t 16 \t\t0.9710 \t(0.7778 - 1.0000) \t\t 42 + TEPS_0001\n",
      "44 \t 16 \t\t0.9722 \t(0.8778 - 1.0000) \t\t 43 + TEPS_0006\n",
      "45 \t 16 \t\t0.9682 \t(0.8778 - 1.0000) \t\t 44 + PANAS_0001\n",
      "46 \t 16 \t\t0.9688 \t(0.8083 - 1.0000) \t\t 45 + RPA_0001\n",
      "47 \t 16 \t\t0.9684 \t(0.8083 - 1.0000) \t\t 46 + CTQ_0013\n",
      "48 \t 16 \t\t0.9783 \t(0.9000 - 1.0000) \t\t 47 + RRS_0018\n",
      "49 \t 16 \t\t0.9722 \t(0.7778 - 1.0000) \t\t 48 + FSS_0008\n",
      "50 \t 16 \t\t0.9797 \t(0.8000 - 1.0000) \t\t 49 + RPA_0007\n",
      "51 \t 16 \t\t0.9821 \t(0.8714 - 1.0000) \t\t 50 + ACS_0015\n",
      "52 \t 16 \t\t0.9865 \t(0.9048 - 1.0000) \t\t 51 + CTQ_0006\n",
      "53 \t 16 \t\t0.9832 \t(0.9000 - 1.0000) \t\t 52 + ACS_0004\n",
      "54 \t 16 \t\t0.9797 \t(0.9000 - 1.0000) \t\t 53 + PSAS_0007\n",
      "55 \t 16 \t\t0.9809 \t(0.9000 - 1.0000) \t\t 54 + RPA_0005\n",
      "56 \t 16 \t\t0.9767 \t(0.8714 - 1.0000) \t\t 55 + ACS_0014\n",
      "57 \t 16 \t\t0.9812 \t(0.9000 - 1.0000) \t\t 56 + TEPS_0004\n",
      "58 \t 16 \t\t0.9735 \t(0.8333 - 1.0000) \t\t 57 + ACS_0013\n",
      "59 \t 16 \t\t0.9760 \t(0.8333 - 1.0000) \t\t 58 + PANAS_0005\n",
      "60 \t 16 \t\t0.9792 \t(0.9000 - 1.0000) \t\t 59 + SHS_0003\n",
      "61 \t 16 \t\t0.9750 \t(0.8306 - 1.0000) \t\t 60 + FSS_0004\n",
      "62 \t 16 \t\t0.9612 \t(0.8000 - 1.0000) \t\t 61 + RRS_0011\n",
      "63 \t 16 \t\t0.9802 \t(0.8778 - 1.0000) \t\t 62 + ACS_0005\n",
      "64 \t 16 \t\t0.9700 \t(0.8778 - 1.0000) \t\t 63 + FIRST_0001\n",
      "65 \t 16 \t\t0.9623 \t(0.7333 - 1.0000) \t\t 64 + ACS_0003\n",
      "66 \t 16 \t\t0.9724 \t(0.8667 - 1.0000) \t\t 65 + RPA_0009\n",
      "67 \t 16 \t\t0.9698 \t(0.8667 - 1.0000) \t\t 66 + RPA_0011\n",
      "68 \t 16 \t\t0.9682 \t(0.8556 - 1.0000) \t\t 67 + BISBAS_0023\n",
      "69 \t 16 \t\t0.9690 \t(0.7861 - 1.0000) \t\t 68 + BISBAS_0009\n",
      "70 \t 16 \t\t0.9636 \t(0.7714 - 1.0000) \t\t 69 + BISBAS_0018\n",
      "71 \t 16 \t\t0.9642 \t(0.8111 - 1.0000) \t\t 70 + BISBAS_0010\n",
      "72 \t 16 \t\t0.9658 \t(0.8333 - 1.0000) \t\t 71 + TEPS_0002\n",
      "73 \t 16 \t\t0.9603 \t(0.8333 - 1.0000) \t\t 72 + CTQ_0005\n",
      "74 \t 16 \t\t0.9630 \t(0.8750 - 1.0000) \t\t 73 + ACS_0021\n",
      "75 \t 16 \t\t0.9538 \t(0.8000 - 1.0000) \t\t 74 + PSAS_0010\n",
      "76 \t 16 \t\t0.9669 \t(0.8778 - 1.0000) \t\t 75 + RPA_0010\n",
      "77 \t 16 \t\t0.9562 \t(0.7492 - 1.0000) \t\t 76 + CTQ_0021\n",
      "78 \t 16 \t\t0.9658 \t(0.8750 - 1.0000) \t\t 77 + MIPIP_0006\n",
      "79 \t 16 \t\t0.9681 \t(0.8028 - 1.0000) \t\t 78 + PSAS_0011\n",
      "80 \t 16 \t\t0.9501 \t(0.7714 - 1.0000) \t\t 79 + CTQ_0009\n",
      "81 \t 16 \t\t0.9480 \t(0.7667 - 1.0000) \t\t 80 + FIRST_0005\n",
      "82 \t 16 \t\t0.9657 \t(0.8750 - 1.0000) \t\t 81 + PSAS_0016\n",
      "83 \t 16 \t\t0.9657 \t(0.8750 - 1.0000) \t\t 82 + CTQ_0026\n",
      "84 \t 16 \t\t0.9535 \t(0.7750 - 1.0000) \t\t 83 + PSAS_0005\n",
      "85 \t 16 \t\t0.9547 \t(0.7778 - 1.0000) \t\t 84 + TEPS_0008\n",
      "86 \t 16 \t\t0.9485 \t(0.8000 - 1.0000) \t\t 85 + ACS_0023\n",
      "87 \t 16 \t\t0.9542 \t(0.8778 - 1.0000) \t\t 86 + MIPIP_0001\n",
      "88 \t 16 \t\t0.9495 \t(0.7825 - 1.0000) \t\t 87 + PANAS_0017\n",
      "89 \t 16 \t\t0.9567 \t(0.8750 - 1.0000) \t\t 88 + PSAS_0009\n",
      "90 \t 16 \t\t0.9546 \t(0.9000 - 1.0000) \t\t 89 + TEPS_0012\n",
      "91 \t 16 \t\t0.9475 \t(0.8667 - 1.0000) \t\t 90 + CTQ_0003\n",
      "92 \t 16 \t\t0.9463 \t(0.6111 - 1.0000) \t\t 91 + CTQ_0024\n",
      "93 \t 16 \t\t0.9537 \t(0.8111 - 1.0000) \t\t 92 + BISBAS_0004\n",
      "94 \t 16 \t\t0.9419 \t(0.7714 - 1.0000) \t\t 93 + TEPS_0017\n",
      "95 \t 16 \t\t0.9388 \t(0.8000 - 1.0000) \t\t 94 + RRS_0012\n",
      "96 \t 16 \t\t0.9227 \t(0.7429 - 1.0000) \t\t 95 + MIPIP_0011\n",
      "97 \t 16 \t\t0.9142 \t(0.6333 - 1.0000) \t\t 96 + RPA_0003\n",
      "98 \t 16 \t\t0.9194 \t(0.7111 - 1.0000) \t\t 97 + SHS_0002\n",
      "99 \t 16 \t\t0.9250 \t(0.7556 - 1.0000) \t\t 98 + PSAS_0001\n",
      "100 \t 16 \t\t0.9183 \t(0.7333 - 1.0000) \t\t 99 + RPA_0014\n",
      "101 \t 16 \t\t0.9269 \t(0.7603 - 1.0000) \t\t 100 + TEPS_0018\n",
      "102 \t 16 \t\t0.9270 \t(0.8333 - 1.0000) \t\t 101 + CTQ_0012\n",
      "103 \t 16 \t\t0.9182 \t(0.7417 - 1.0000) \t\t 102 + ACS_0001\n",
      "104 \t 16 \t\t0.9290 \t(0.7111 - 1.0000) \t\t 103 + MIPIP_0002\n",
      "105 \t 16 \t\t0.9153 \t(0.6861 - 1.0000) \t\t 104 + ACS_0020\n",
      "106 \t 16 \t\t0.9146 \t(0.7778 - 1.0000) \t\t 105 + CTQ_0007\n",
      "107 \t 16 \t\t0.9238 \t(0.7667 - 1.0000) \t\t 106 + BISBAS_0014\n",
      "108 \t 16 \t\t0.8959 \t(0.7206 - 1.0000) \t\t 107 + PANAS_0004\n",
      "109 \t 16 \t\t0.9097 \t(0.7417 - 1.0000) \t\t 108 + PSAS_0013\n",
      "110 \t 16 \t\t0.9055 \t(0.6889 - 1.0000) \t\t 109 + PANAS_0011\n",
      "111 \t 16 \t\t0.9127 \t(0.7778 - 1.0000) \t\t 110 + RRS_0026\n",
      "112 \t 16 \t\t0.9002 \t(0.7333 - 1.0000) \t\t 111 + MIPIP_0014\n",
      "113 \t 16 \t\t0.9029 \t(0.7167 - 1.0000) \t\t 112 + MIPIP_0017\n",
      "114 \t 16 \t\t0.8968 \t(0.7222 - 1.0000) \t\t 113 + RPA_0008\n",
      "115 \t 16 \t\t0.8901 \t(0.6492 - 1.0000) \t\t 114 + FSS_0006\n",
      "116 \t 16 \t\t0.8950 \t(0.7306 - 1.0000) \t\t 115 + FIRST_0008\n",
      "117 \t 16 \t\t0.8801 \t(0.7306 - 0.9778) \t\t 116 + TEPS_0013\n",
      "118 \t 16 \t\t0.8630 \t(0.6333 - 0.9778) \t\t 117 + SHS_0004\n",
      "119 \t 16 \t\t0.8683 \t(0.6306 - 1.0000) \t\t 118 + TEPS_0010\n",
      "120 \t 16 \t\t0.8552 \t(0.6714 - 0.9778) \t\t 119 + TEPS_0003\n"
     ]
    }
   ],
   "source": [
    "for train_val_random in range(50):\n",
    "    \n",
    "    cache_post = str(n_splits) + '_' + str(train) + '_r' + str(train_val_random)\n",
    "\n",
    "    cache_sig = mod_evaluation.cache_sig_gen(\n",
    "        metric_id, \n",
    "        cache_pre=cache_pre,\n",
    "        cache_post=cache_post\n",
    "    )\n",
    "\n",
    "    print('evaluating', cache_sig)\n",
    "\n",
    "    df_data = pd.read_csv(data_path)\n",
    "\n",
    "    _, logits = mod_latent.modelPP(df_data[mod_latent.s_latent_ref])\n",
    "\n",
    "    df_data[mod_data.logits_ref] = pd.DataFrame(logits)\n",
    "\n",
    "    df_data = df_data[df_data['train']==train]\n",
    "    \n",
    "    df_train, df_val = sk.model_selection.train_test_split(\n",
    "        df_data,\n",
    "        test_size=test_size,\n",
    "        random_state=train_val_random,\n",
    "        shuffle=True,\n",
    "        stratify=np.argmax(np.array(df_data[mod_data.logits_ref]), axis=1)\n",
    "    )\n",
    "\n",
    "    df_train_val = (df_train, df_val)\n",
    "\n",
    "    df_x_train, df_y_train, df_x_val, df_y_val = mod_data.load_data_df(df_train_val=df_train_val)\n",
    "\n",
    "    stats_best, info_best = mod_compute.stats_seq_drop(\n",
    "        metric_id,\n",
    "        model_ref,\n",
    "        df_x_train,\n",
    "        df_y_train,\n",
    "        q_exc_init=q_exc, \n",
    "        drop_max=drop_max,\n",
    "        n_splits=n_splits,\n",
    "        metric_eval=metric_eval,\n",
    "        **model_ref_kwargs\n",
    "    )\n",
    "\n",
    "    ## Model validation\n",
    "    stats_val = {}\n",
    "\n",
    "    for model_id in info_best:\n",
    "\n",
    "        q_sel = mod_compute.get_q_sel(info_best[model_id]['q_exc'])\n",
    "\n",
    "        x_train, y_train, x_val, y_val = mod_compute.df_to_model_input(\n",
    "            df_x_train[q_sel], df_y_train, df_x_val[q_sel], df_y_val\n",
    "        )\n",
    "\n",
    "        _, my_stats =  mod_compute.model_train(\n",
    "            x_train, y_train, x_val, y_val, \n",
    "            model_ref,\n",
    "            **model_ref_kwargs\n",
    "        )\n",
    "\n",
    "        stats_val[model_id] = [my_stats]\n",
    "\n",
    "    ## Save results\n",
    "    if save_stats:\n",
    "\n",
    "        if not os.path.isdir(results_path):\n",
    "            os.mkdir(results_path)\n",
    "\n",
    "        results = {\n",
    "            'info': info_best,\n",
    "            'stats': stats_best,\n",
    "            'stats_val': stats_val,\n",
    "        }\n",
    "\n",
    "        mod_evaluation.to_cache(cache_sig, results_path, results)"
   ]
  }
 ],
 "metadata": {
  "kernelspec": {
   "display_name": "Python 3",
   "language": "python",
   "name": "python3"
  },
  "language_info": {
   "codemirror_mode": {
    "name": "ipython",
    "version": 3
   },
   "file_extension": ".py",
   "mimetype": "text/x-python",
   "name": "python",
   "nbconvert_exporter": "python",
   "pygments_lexer": "ipython3",
   "version": "3.5.2"
  }
 },
 "nbformat": 4,
 "nbformat_minor": 2
}
