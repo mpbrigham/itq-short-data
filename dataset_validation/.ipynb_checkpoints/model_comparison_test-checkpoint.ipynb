{
 "cells": [
  {
   "cell_type": "markdown",
   "metadata": {},
   "source": [
    "# Model comparison\n",
    "# Drop pi questions with selection metric on train set\n",
    "\n",
    "Reduced models were obtained by the following procedure:\n",
    "* drop all questions from sum score PI\n",
    "* drop next question according to selection metric on **train set**\n",
    "\n",
    "Selection metric criteria:\n",
    "* `ca`: min of mean conditional accuracy\n",
    "* `ca_class`: max of min conditional accuracy\n",
    "* `ca_prod`: max of product conditional accuracy\n",
    "* `mse`: min of mean square error\n",
    "* `mse_class`: min of max conditional mean square error\n",
    "* `xent` min of cross-entropy\n",
    "* `xent_class` min of max cross-entropy\n",
    "\n",
    "http://jmlr.csail.mit.edu/papers/volume3/guyon03a/guyon03a.pdf"
   ]
  },
  {
   "cell_type": "markdown",
   "metadata": {},
   "source": [
    "## Environment initialization"
   ]
  },
  {
   "cell_type": "code",
   "execution_count": 1,
   "metadata": {},
   "outputs": [
    {
     "data": {
      "application/javascript": [
       "IPython.notebook.set_autosave_interval(0)"
      ]
     },
     "metadata": {},
     "output_type": "display_data"
    },
    {
     "name": "stdout",
     "output_type": "stream",
     "text": [
      "Autosave disabled\n"
     ]
    }
   ],
   "source": [
    "%autosave 0\n",
    "%matplotlib notebook\n",
    "%load_ext autoreload\n",
    "%autoreload 2\n",
    "\n",
    "import ipywidgets as widgets\n",
    "import plotly.graph_objects as go\n",
    "\n",
    "import sys\n",
    "sys.path.append(\"../\")\n",
    "\n",
    "import mod_evaluation\n",
    "import mod_viewer"
   ]
  },
  {
   "cell_type": "markdown",
   "metadata": {},
   "source": [
    "## Execution params"
   ]
  },
  {
   "cell_type": "code",
   "execution_count": 2,
   "metadata": {},
   "outputs": [],
   "source": [
    "results_path = 'data/results'\n",
    "\n",
    "model_ref_id = 'linear'\n",
    "\n",
    "n_splits = 25\n",
    "\n",
    "metrics = mod_evaluation.sort_params_train\n",
    "\n",
    "train_val_random = None"
   ]
  },
  {
   "cell_type": "code",
   "execution_count": 3,
   "metadata": {},
   "outputs": [],
   "source": [
    "cache_pre = 'model_'+model_ref_id\n",
    "cache_post = str(n_splits)\n",
    "\n",
    "if train_val_random is not None:\n",
    "    cache_post += '_r'+str(train_val_random)"
   ]
  },
  {
   "cell_type": "markdown",
   "metadata": {},
   "source": [
    "## Load results"
   ]
  },
  {
   "cell_type": "code",
   "execution_count": 4,
   "metadata": {},
   "outputs": [
    {
     "name": "stdout",
     "output_type": "stream",
     "text": [
      "Loaded 0\n",
      "Loaded 1\n"
     ]
    }
   ],
   "source": [
    "from copy import deepcopy\n",
    "\n",
    "available = {0: [], 1: []}\n",
    "\n",
    "for item in mod_evaluation.list_cache(results_path):\n",
    "    if '_0_' in item:\n",
    "        available[0] += [item]\n",
    "    if '_1_' in item:\n",
    "        available[1] += [item]    \n",
    "\n",
    "my_data = {}\n",
    "\n",
    "for run_type in available:\n",
    "    \n",
    "    info, stats, stats_val = {}, {}, {}\n",
    "\n",
    "    for item in available[run_type]:\n",
    "\n",
    "        for metric_id in metrics:\n",
    "\n",
    "            cache_sig = mod_evaluation.cache_sig_gen(\n",
    "                metric_id, \n",
    "                cache_pre=cache_pre, \n",
    "                cache_post=cache_post\n",
    "            )\n",
    "    \n",
    "            if cache_sig in item:\n",
    "                \n",
    "                run_id = item.split('_')[-1]\n",
    "\n",
    "                cache = mod_evaluation.from_cache(\n",
    "                    item, \n",
    "                    results_path\n",
    "                )\n",
    "                \n",
    "                if metric_id not in info:\n",
    "                    \n",
    "                    info[metric_id] = {}\n",
    "                    stats[metric_id] = {}\n",
    "                    stats_val[metric_id] = {}\n",
    "                    \n",
    "                else:\n",
    "\n",
    "                    info[metric_id][run_id] = {\n",
    "                        int(model.split(' + ')[0]): cache['info'][model]\n",
    "                        for model in cache['info']\n",
    "                        if len(model.split(' + '))>1\n",
    "                    }\n",
    "                    stats[metric_id][run_id] = {\n",
    "                        int(model.split(' + ')[0]): cache['stats'][model]\n",
    "                        for model in cache['stats']\n",
    "                        if len(model.split(' + '))>1\n",
    "                    }\n",
    "                    stats_val[metric_id][run_id] = {\n",
    "                        int(model.split(' + ')[0]): cache['stats_val'][model]\n",
    "                        for model in cache['stats_val']\n",
    "                        if len(model.split(' + '))>1\n",
    "                    }\n",
    "\n",
    "    my_data[run_type] = [deepcopy(info), deepcopy(stats), deepcopy(stats_val)]\n",
    "    \n",
    "    print('Loaded', run_type)"
   ]
  },
  {
   "cell_type": "code",
   "execution_count": 5,
   "metadata": {},
   "outputs": [],
   "source": [
    "my_data_flat = {}\n",
    "\n",
    "for run_type in my_data:\n",
    "    \n",
    "    info, stats, stats_val = my_data[run_type]\n",
    "    info_flat, stats_flat, stats_val_flat = {}, {}, {}\n",
    "\n",
    "    for metric_id in info:\n",
    "        \n",
    "        info_flat[metric_id] = deepcopy(info[metric_id]['r0'])\n",
    "        stats_flat[metric_id] = deepcopy(stats[metric_id]['r0'])\n",
    "        stats_val_flat[metric_id] = deepcopy(stats_val[metric_id]['r0'])\n",
    "        \n",
    "        for run_id in info[metric_id]:\n",
    "            \n",
    "            if run_id=='r0':\n",
    "                continue\n",
    "                \n",
    "            for model_id in info[metric_id][run_id]:\n",
    "\n",
    "                stats_flat[metric_id][model_id] += stats[metric_id][run_id][model_id]\n",
    "                stats_val_flat[metric_id][model_id] += stats_val[metric_id][run_id][model_id]\n",
    "                \n",
    "    my_data_flat[run_type] = [deepcopy(info_flat), deepcopy(stats_flat), deepcopy(stats_val_flat)]"
   ]
  },
  {
   "cell_type": "code",
   "execution_count": 6,
   "metadata": {},
   "outputs": [],
   "source": [
    "df_questions_0, df_questions_val_0 = mod_evaluation.get_df_questions(\n",
    "    my_data_flat[0][0], my_data_flat[0][1], my_data_flat[0][2],\n",
    "    ci=True\n",
    ")\n",
    "\n",
    "df_questions_1, df_questions_val_1 = mod_evaluation.get_df_questions(\n",
    "    my_data_flat[1][0], my_data_flat[1][1], my_data_flat[1][2],\n",
    "    ci=True\n",
    ")\n",
    "\n",
    "df_questions_ca_0, df_questions_val_ca_0 = mod_evaluation.get_df_questions_ca(\n",
    "    my_data_flat[0][0], my_data_flat[0][1], my_data_flat[0][2],\n",
    "    ci=False\n",
    ")\n",
    "\n",
    "df_questions_ca_1, df_questions_val_ca_1 = mod_evaluation.get_df_questions_ca(\n",
    "    my_data_flat[1][0], my_data_flat[1][1], my_data_flat[1][2],\n",
    "    ci=False\n",
    ")"
   ]
  },
  {
   "cell_type": "markdown",
   "metadata": {},
   "source": [
    "# Model comparison"
   ]
  },
  {
   "cell_type": "markdown",
   "metadata": {},
   "source": [
    "## Mean accuracy on validation set (cross-validation)\n",
    "\n",
    "* Mean accuracy on validation set (cross-validation) according to selection metric\n",
    "* Confidence interval estimated by bootstrap method over cross-validation repetitions\n",
    "\n",
    "(clicking on labels adds/removes traces, double-clicking selects single trace)\n",
    "\n",
    "* `ca_class`: max of min conditional accuracy\n",
    "* `mse_class`: min of max conditional mean square error\n",
    "\n",
    "Figures: **train** set (top), **holdout set** (bottom)"
   ]
  },
  {
   "cell_type": "code",
   "execution_count": 7,
   "metadata": {},
   "outputs": [
    {
     "data": {
      "application/vnd.jupyter.widget-view+json": {
       "model_id": "744bf9c449e2416dbaf550825befce79",
       "version_major": 2,
       "version_minor": 0
      },
      "text/plain": [
       "HBox(children=(FigureWidget({\n",
       "    'data': [{'fill': 'toself',\n",
       "              'fillcolor': 'rgba(31, 119, 180, 0…"
      ]
     },
     "metadata": {},
     "output_type": "display_data"
    },
    {
     "data": {
      "application/vnd.jupyter.widget-view+json": {
       "model_id": "fa00c2c7fb0945b092aad7bf5840216a",
       "version_major": 2,
       "version_minor": 0
      },
      "text/plain": [
       "HBox(children=(FigureWidget({\n",
       "    'data': [{'fill': 'toself',\n",
       "              'fillcolor': 'rgba(31, 119, 180, 0…"
      ]
     },
     "metadata": {},
     "output_type": "display_data"
    }
   ],
   "source": [
    "display(mod_viewer.plot_accuracy_mse(df_questions_1))\n",
    "\n",
    "display(mod_viewer.plot_accuracy_mse(df_questions_0))"
   ]
  },
  {
   "cell_type": "markdown",
   "metadata": {},
   "source": [
    "## Mean conditional accuracy on validation set  (cross-validation)\n",
    "\n",
    "* Mean conditional accuracy on validation set (cross-validation) according to selection metric\n",
    "* Confidence interval estimated by bootstrap method over cross-validation repetitions\n",
    "\n",
    "(clicking on labels adds/removes traces, double-clicking selects single trace)\n",
    "\n",
    "Figures: **train** set (top), **holdout set** (bottom)"
   ]
  },
  {
   "cell_type": "code",
   "execution_count": 8,
   "metadata": {
    "scrolled": false
   },
   "outputs": [
    {
     "data": {
      "application/vnd.jupyter.widget-view+json": {
       "model_id": "66d877b1981947fd9b2b70ac271f289c",
       "version_major": 2,
       "version_minor": 0
      },
      "text/plain": [
       "Tab(children=(HBox(children=(FigureWidget({\n",
       "    'data': [{'line': {'color': 'rgba(31, 119, 180, 0.6)'},\n",
       "      …"
      ]
     },
     "metadata": {},
     "output_type": "display_data"
    },
    {
     "data": {
      "application/vnd.jupyter.widget-view+json": {
       "model_id": "6e9a0e15eeb14416951069ce170eb42a",
       "version_major": 2,
       "version_minor": 0
      },
      "text/plain": [
       "Tab(children=(HBox(children=(FigureWidget({\n",
       "    'data': [{'line': {'color': 'rgba(31, 119, 180, 0.6)'},\n",
       "      …"
      ]
     },
     "metadata": {},
     "output_type": "display_data"
    }
   ],
   "source": [
    "display(mod_viewer.tab_plot_conditional_accuracy(\n",
    "    df_questions_1,\n",
    "    df_questions_ca_1,\n",
    "    info\n",
    "))\n",
    "\n",
    "display(mod_viewer.tab_plot_conditional_accuracy(\n",
    "    df_questions_0,\n",
    "    df_questions_ca_0,\n",
    "    info\n",
    "))"
   ]
  },
  {
   "cell_type": "markdown",
   "metadata": {},
   "source": [
    "# Model validation"
   ]
  },
  {
   "cell_type": "markdown",
   "metadata": {},
   "source": [
    "## Mean accuracy on holdout set\n",
    "\n",
    "* Accuracy on holdout set according to selection metric\n",
    "* Holdout accuracy outside confidence interval bounds may indicate (1) model overfitting or (2) data domain shift\n",
    "\n",
    "(clicking on labels adds/removes traces, double-clicking selects single trace)\n",
    "\n",
    "Figures: **train** set (top), **holdout set** (bottom)"
   ]
  },
  {
   "cell_type": "code",
   "execution_count": 9,
   "metadata": {},
   "outputs": [
    {
     "data": {
      "application/vnd.jupyter.widget-view+json": {
       "model_id": "c9fd6564a04a485f904a3b63684b9c74",
       "version_major": 2,
       "version_minor": 0
      },
      "text/plain": [
       "Tab(children=(HBox(children=(FigureWidget({\n",
       "    'data': [{'fill': 'toself',\n",
       "              'fillcolor': 'rgba(3…"
      ]
     },
     "metadata": {},
     "output_type": "display_data"
    },
    {
     "data": {
      "application/vnd.jupyter.widget-view+json": {
       "model_id": "95f10122be5c49d6b08bc36df56ee91d",
       "version_major": 2,
       "version_minor": 0
      },
      "text/plain": [
       "Tab(children=(HBox(children=(FigureWidget({\n",
       "    'data': [{'fill': 'toself',\n",
       "              'fillcolor': 'rgba(3…"
      ]
     },
     "metadata": {},
     "output_type": "display_data"
    }
   ],
   "source": [
    "display(mod_viewer.tab_plot_accuracy(\n",
    "    df_questions_1,\n",
    "    info,\n",
    "    df_questions_holdout=df_questions_val_1\n",
    "))\n",
    "\n",
    "display(mod_viewer.tab_plot_accuracy(\n",
    "    df_questions_0,\n",
    "    info,\n",
    "    df_questions_holdout=df_questions_val_0\n",
    "))"
   ]
  },
  {
   "cell_type": "markdown",
   "metadata": {},
   "source": [
    "## Mean conditional accuracy on validation set\n",
    "\n",
    "* Accuracy on holdout set according to selection metric\n",
    "* Holdout accuracy outside confidence interval bounds may indicate (1) model overfitting or (2) data domain shift\n",
    "\n",
    "(clicking on labels adds/removes traces, double-clicking selects single trace)\n",
    "\n",
    "Figures: **train** set (top), **holdout set** (bottom)"
   ]
  },
  {
   "cell_type": "code",
   "execution_count": 10,
   "metadata": {
    "scrolled": false
   },
   "outputs": [
    {
     "data": {
      "application/vnd.jupyter.widget-view+json": {
       "model_id": "d30c32cb15664873bd41420647c6dca7",
       "version_major": 2,
       "version_minor": 0
      },
      "text/plain": [
       "Tab(children=(HBox(children=(FigureWidget({\n",
       "    'data': [{'line': {'color': 'rgba(31, 119, 180, 0.6)'},\n",
       "      …"
      ]
     },
     "metadata": {},
     "output_type": "display_data"
    },
    {
     "data": {
      "application/vnd.jupyter.widget-view+json": {
       "model_id": "3acbc7da52304295ba4fe89b71524d3e",
       "version_major": 2,
       "version_minor": 0
      },
      "text/plain": [
       "Tab(children=(HBox(children=(FigureWidget({\n",
       "    'data': [{'line': {'color': 'rgba(31, 119, 180, 0.6)'},\n",
       "      …"
      ]
     },
     "metadata": {},
     "output_type": "display_data"
    }
   ],
   "source": [
    "display(mod_viewer.tab_plot_conditional_accuracy(\n",
    "    df_questions_val_1,\n",
    "    df_questions_val_ca_1,\n",
    "    info,\n",
    "    holdout=True\n",
    "))\n",
    "\n",
    "display(mod_viewer.tab_plot_conditional_accuracy(\n",
    "    df_questions_val_0,\n",
    "    df_questions_val_ca_0,\n",
    "    info,\n",
    "    holdout=True\n",
    "))"
   ]
  }
 ],
 "metadata": {
  "kernelspec": {
   "display_name": "Python 3",
   "language": "python",
   "name": "python3"
  },
  "language_info": {
   "codemirror_mode": {
    "name": "ipython",
    "version": 3
   },
   "file_extension": ".py",
   "mimetype": "text/x-python",
   "name": "python",
   "nbconvert_exporter": "python",
   "pygments_lexer": "ipython3",
   "version": "3.5.2"
  }
 },
 "nbformat": 4,
 "nbformat_minor": 2
}
