{
 "cells": [
  {
   "cell_type": "markdown",
   "metadata": {},
   "source": [
    "# papermill - drop questions pi - linear"
   ]
  },
  {
   "cell_type": "markdown",
   "metadata": {},
   "source": [
    "## Environment initialization"
   ]
  },
  {
   "cell_type": "code",
   "execution_count": null,
   "metadata": {},
   "outputs": [],
   "source": [
    "from __future__ import division, print_function\n",
    "\n",
    "%autosave 0\n",
    "%matplotlib notebook\n",
    "%load_ext autoreload\n",
    "%autoreload 2\n",
    "\n",
    "from IPython.display import display\n",
    "import ipywidgets as widgets\n",
    "import papermill as pm\n",
    "import os\n",
    "from time import time, sleep\n",
    "\n",
    "import sys\n",
    "sys.path.append(\"../\")\n",
    "\n",
    "import mod_compute\n",
    "import mod_evaluation"
   ]
  },
  {
   "cell_type": "markdown",
   "metadata": {},
   "source": [
    "## Notebook variables"
   ]
  },
  {
   "cell_type": "code",
   "execution_count": null,
   "metadata": {},
   "outputs": [],
   "source": [
    "def run_single(notebook, parameters):\n",
    "\n",
    "    with progress_out:\n",
    "        \n",
    "        cache_sig = parameters['cache_sig']\n",
    "        \n",
    "        if (os.path.isdir(results_path)\n",
    "            and cache_sig in mod_evaluation.list_cache(results_path)):\n",
    "            print(cache_sig, '(from cache)')\n",
    "            sleep(0.01)\n",
    "\n",
    "        else:\n",
    "            print(cache_sig)\n",
    "                \n",
    "            pm.execute_notebook(\n",
    "               notebook,\n",
    "               os.path.join('/tmp', cache_sig+'.ipynb'),\n",
    "               parameters=parameters\n",
    "            )\n",
    "\n",
    "        \n",
    "def run_mill(notebook, parameters):\n",
    "\n",
    "    for metric_id in sorted(parameters['metrics']):\n",
    "        \n",
    "        parameters['metric_id'] = metric_id\n",
    "        \n",
    "        parameters['cache_sig'] = mod_evaluation.cache_sig_gen(\n",
    "            parameters['metric_id'], \n",
    "            cache_pre='model_'+parameters['model_ref_id'],\n",
    "            cache_post=str(parameters['n_splits'])\n",
    "        )\n",
    "        \n",
    "        run_single(notebook, parameters)"
   ]
  },
  {
   "cell_type": "markdown",
   "metadata": {},
   "source": [
    "## Default params"
   ]
  },
  {
   "cell_type": "code",
   "execution_count": null,
   "metadata": {},
   "outputs": [],
   "source": [
    "n_splits = 10\n",
    "\n",
    "drop_max = 100\n",
    "\n",
    "results_path = 'data/results_fixed'"
   ]
  },
  {
   "cell_type": "markdown",
   "metadata": {},
   "source": [
    "## Common params"
   ]
  },
  {
   "cell_type": "code",
   "execution_count": null,
   "metadata": {},
   "outputs": [],
   "source": [
    "model_ref_id = 'linear'\n",
    "model_ref_kwargs = {}\n",
    "\n",
    "q_exc = []\n",
    "\n",
    "scaling = None\n",
    "\n",
    "metrics = ['mean_squared_error_class']\n",
    "\n",
    "train = 1\n",
    "\n",
    "cv_random = 42"
   ]
  },
  {
   "cell_type": "markdown",
   "metadata": {},
   "source": [
    "## Notebook execution - drop questions"
   ]
  },
  {
   "cell_type": "code",
   "execution_count": null,
   "metadata": {},
   "outputs": [],
   "source": [
    "notebook = 'model_selection_dataset.ipynb'\n",
    "    \n",
    "parameters = {\n",
    "    'n_splits': n_splits,\n",
    "    'drop_max': drop_max,\n",
    "    'results_path': results_path,\n",
    "    'model_ref_id': model_ref_id,\n",
    "    'model_ref_kwargs': model_ref_kwargs,\n",
    "    'q_exc': q_exc,\n",
    "    'scaling': scaling,\n",
    "    'metrics': metrics,\n",
    "    'train': train,\n",
    "    'cv_random': cv_random,\n",
    "    'save_stats': True \n",
    "}\n",
    "\n",
    "progress_out = widgets.Output()\n",
    "display(progress_out)\n",
    "    \n",
    "run_mill(notebook, parameters)"
   ]
  }
 ],
 "metadata": {
  "kernelspec": {
   "display_name": "Python 3",
   "language": "python",
   "name": "python3"
  },
  "language_info": {
   "codemirror_mode": {
    "name": "ipython",
    "version": 3
   },
   "file_extension": ".py",
   "mimetype": "text/x-python",
   "name": "python",
   "nbconvert_exporter": "python",
   "pygments_lexer": "ipython3",
   "version": "3.5.2"
  }
 },
 "nbformat": 4,
 "nbformat_minor": 2
}
