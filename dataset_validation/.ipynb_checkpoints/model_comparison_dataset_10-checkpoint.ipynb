{
 "cells": [
  {
   "cell_type": "markdown",
   "metadata": {},
   "source": [
    "# Model comparison (dataset)\n",
    "# Drop pi questions with selection metric on train set\n",
    "\n",
    "Reduced models were obtained by the following procedure:\n",
    "* drop all questions from sum score PI\n",
    "* drop next question according to selection metric on **train set**\n",
    "\n",
    "Selection metric criteria:\n",
    "* `ca`: min of mean conditional accuracy\n",
    "* `ca_class`: max of min conditional accuracy\n",
    "* `ca_prod`: max of product conditional accuracy\n",
    "* `mse`: min of mean square error\n",
    "* `mse_class`: min of max conditional mean square error\n",
    "* `xent` min of cross-entropy\n",
    "* `xent_class` min of max cross-entropy\n",
    "\n",
    "http://jmlr.csail.mit.edu/papers/volume3/guyon03a/guyon03a.pdf"
   ]
  },
  {
   "cell_type": "markdown",
   "metadata": {},
   "source": [
    "## Environment initialization"
   ]
  },
  {
   "cell_type": "code",
   "execution_count": 47,
   "metadata": {},
   "outputs": [
    {
     "data": {
      "application/javascript": [
       "IPython.notebook.set_autosave_interval(0)"
      ]
     },
     "metadata": {},
     "output_type": "display_data"
    },
    {
     "name": "stdout",
     "output_type": "stream",
     "text": [
      "Autosave disabled\n",
      "The autoreload extension is already loaded. To reload it, use:\n",
      "  %reload_ext autoreload\n"
     ]
    }
   ],
   "source": [
    "%autosave 0\n",
    "%matplotlib notebook\n",
    "%load_ext autoreload\n",
    "%autoreload 2\n",
    "\n",
    "import ipywidgets as widgets\n",
    "import plotly.graph_objects as go\n",
    "import plotly.express as px\n",
    "\n",
    "import sys\n",
    "sys.path.append(\"../\")\n",
    "\n",
    "import mod_evaluation\n",
    "import mod_viewer\n",
    "import mod_helper"
   ]
  },
  {
   "cell_type": "markdown",
   "metadata": {},
   "source": [
    "## Execution params"
   ]
  },
  {
   "cell_type": "code",
   "execution_count": 2,
   "metadata": {},
   "outputs": [],
   "source": [
    "results_path = 'data/results'\n",
    "\n",
    "model_ref_id = 'linear'\n",
    "\n",
    "n_splits = 10\n",
    "\n",
    "metrics = mod_evaluation.sort_params_train\n",
    "\n",
    "train_val_random = None"
   ]
  },
  {
   "cell_type": "code",
   "execution_count": 3,
   "metadata": {},
   "outputs": [],
   "source": [
    "cache_pre = 'model_'+model_ref_id\n",
    "cache_post = str(n_splits)\n",
    "\n",
    "if train_val_random is not None:\n",
    "    cache_post += '_r'+str(train_val_random)"
   ]
  },
  {
   "cell_type": "markdown",
   "metadata": {},
   "source": [
    "## Load results"
   ]
  },
  {
   "cell_type": "code",
   "execution_count": 4,
   "metadata": {},
   "outputs": [
    {
     "name": "stdout",
     "output_type": "stream",
     "text": [
      "Loaded 0\n",
      "Loaded 1\n"
     ]
    }
   ],
   "source": [
    "from copy import deepcopy\n",
    "\n",
    "def get_model_id(model_id):\n",
    "    id_split = model_id.split(' + ')\n",
    "    if len(id_split)>1:\n",
    "        my_model_id = int(id_split[0])\n",
    "    else:\n",
    "        my_model_id = 0\n",
    "        \n",
    "    return my_model_id\n",
    "                        \n",
    "available = {0: [], 1: []}\n",
    "\n",
    "for item in mod_evaluation.list_cache(results_path):\n",
    "    if '_0_' in item:\n",
    "        available[0] += [item]\n",
    "    if '_1_' in item:\n",
    "        available[1] += [item]    \n",
    "\n",
    "my_data = {}\n",
    "\n",
    "for run_type in available:\n",
    "    \n",
    "    info, stats, stats_val = {}, {}, {}\n",
    "\n",
    "    for item in available[run_type]:\n",
    "\n",
    "        for metric_id in metrics:\n",
    "\n",
    "            cache_sig = mod_evaluation.cache_sig_gen(\n",
    "                metric_id, \n",
    "                cache_pre=cache_pre, \n",
    "                cache_post=cache_post\n",
    "            )\n",
    "    \n",
    "            if cache_sig in item:\n",
    "                \n",
    "                run_id = item.split('_')[-1]\n",
    "                \n",
    "                if run_id not in info:\n",
    "                    info[run_id], stats[run_id], stats_val[run_id] = {}, {}, {}\n",
    "                    \n",
    "                if metric_id not in info[run_id]:\n",
    "                    info[run_id][metric_id], stats[run_id][metric_id], stats_val[run_id][metric_id] = {}, {}, {}\n",
    "                    \n",
    "                cache = mod_evaluation.from_cache(\n",
    "                    item, \n",
    "                    results_path\n",
    "                )\n",
    "                \n",
    "                for model_id in cache['info']:\n",
    "                    \n",
    "                    my_model_id = get_model_id(model_id)\n",
    "                    \n",
    "                    info[run_id][metric_id][my_model_id] = cache['info'][model_id]\n",
    "                    stats[run_id][metric_id][my_model_id] = cache['stats'][model_id]\n",
    "                    stats_val[run_id][metric_id][my_model_id] = cache['stats_val'][model_id]\n",
    "\n",
    "    my_data[run_type] = [deepcopy(info), deepcopy(stats), deepcopy(stats_val)]\n",
    "    \n",
    "    print('Loaded', run_type)"
   ]
  },
  {
   "cell_type": "markdown",
   "metadata": {},
   "source": [
    "## Global stats"
   ]
  },
  {
   "cell_type": "code",
   "execution_count": 5,
   "metadata": {},
   "outputs": [],
   "source": [
    "empty = {0:{}, 1:{}}\n",
    "\n",
    "df_multi, df_multi_val = deepcopy(empty), deepcopy(empty)\n",
    "df_multi_ca, df_multi_val_ca = deepcopy(empty), deepcopy(empty)\n",
    "\n",
    "df_flat, df_flat_val = deepcopy(empty), deepcopy(empty)\n",
    "df_flat_ca, df_flat_val_ca = deepcopy(empty), deepcopy(empty)\n",
    "\n",
    "for run_type in my_data:\n",
    "    \n",
    "    info, stats, stats_val = my_data[run_type]\n",
    "    info_flat, stats_flat, stats_val_flat = {}, {}, {}\n",
    "    \n",
    "    for run_id in info:\n",
    "        \n",
    "        for metric_id in info[run_id]:\n",
    "            \n",
    "            if metric_id not in info_flat:\n",
    "                info_flat[metric_id], stats_flat[metric_id], stats_val_flat[metric_id] = {}, {}, {}\n",
    "\n",
    "            for model_id in info[run_id][metric_id]:\n",
    "                      \n",
    "                if my_model_id not in info_flat:\n",
    "                    info_flat[metric_id][model_id] = info[run_id][metric_id][model_id]\n",
    "                    stats_flat[metric_id][model_id] = stats[run_id][metric_id][model_id]\n",
    "                    stats_val_flat[metric_id][model_id] = stats_val[run_id][metric_id][model_id]\n",
    "                    \n",
    "                else:\n",
    "                    stats_flat[metric_id][model_id] += stats[run_id][metric_id][model_id]\n",
    "                    stats_val_flat[metric_id][model_id] += stats_val[run_id][metric_id][model_id]\n",
    "                    \n",
    "        df_multi[run_type][run_id], df_multi_val[run_type][run_id] = mod_evaluation.get_df_questions(\n",
    "            info[run_id], stats[run_id], stats_val[run_id],\n",
    "            ci=False\n",
    "        )\n",
    "\n",
    "        df_multi_ca[run_type][run_id], df_multi_val_ca[run_type][run_id] = mod_evaluation.get_df_questions_ca(\n",
    "            info[run_id], stats[run_id], stats_val[run_id]\n",
    "        )\n",
    "\n",
    "    df_flat[run_type], df_flat_val[run_type] = mod_evaluation.get_df_questions(\n",
    "        info_flat, stats_flat, stats_val_flat,\n",
    "        ci=True\n",
    "    )\n",
    "\n",
    "    df_flat_ca[run_type], df_flat_val_ca[run_type] = mod_evaluation.get_df_questions_ca(\n",
    "        info_flat, stats_flat, stats_val_flat,\n",
    "    )"
   ]
  },
  {
   "cell_type": "markdown",
   "metadata": {},
   "source": [
    "## Holdout set variability"
   ]
  },
  {
   "cell_type": "code",
   "execution_count": 54,
   "metadata": {},
   "outputs": [
    {
     "data": {
      "application/vnd.jupyter.widget-view+json": {
       "model_id": "3acca8ab05a64e43983238438bbce771",
       "version_major": 2,
       "version_minor": 0
      },
      "text/plain": [
       "Tab(children=(HBox(children=(FigureWidget({\n",
       "    'data': [{'line': {'color': 'rgba(31, 119, 180, 0.2)'},\n",
       "      …"
      ]
     },
     "metadata": {},
     "output_type": "display_data"
    },
    {
     "data": {
      "application/vnd.jupyter.widget-view+json": {
       "model_id": "1ae49c221fb742dfa3820784823d4a9a",
       "version_major": 2,
       "version_minor": 0
      },
      "text/plain": [
       "Tab(children=(HBox(children=(FigureWidget({\n",
       "    'data': [{'line': {'color': 'rgba(31, 119, 180, 0.2)'},\n",
       "      …"
      ]
     },
     "metadata": {},
     "output_type": "display_data"
    }
   ],
   "source": [
    "display(mod_helper.tab_plot_accuracy_multi(\n",
    "    df_multi[1],\n",
    "    df_multi_val[1]\n",
    "))\n",
    "\n",
    "display(mod_helper.tab_plot_accuracy_multi(\n",
    "    df_multi[0],\n",
    "    df_multi_val[0]\n",
    "))"
   ]
  },
  {
   "cell_type": "markdown",
   "metadata": {},
   "source": [
    "# Model comparison"
   ]
  },
  {
   "cell_type": "markdown",
   "metadata": {},
   "source": [
    "## Mean accuracy on validation set (cross-validation)\n",
    "\n",
    "* Mean accuracy on validation set (cross-validation) according to selection metric\n",
    "* Confidence interval estimated by bootstrap method over cross-validation repetitions\n",
    "\n",
    "(clicking on labels adds/removes traces, double-clicking selects single trace)\n",
    "\n",
    "* `ca_class`: max of min conditional accuracy\n",
    "* `mse_class`: min of max conditional mean square error\n",
    "\n",
    "Figures: **original dataset** (top), **new dataset** (bottom)"
   ]
  },
  {
   "cell_type": "code",
   "execution_count": 6,
   "metadata": {},
   "outputs": [
    {
     "data": {
      "application/vnd.jupyter.widget-view+json": {
       "model_id": "20716594a8204a15ac55243e01d527d4",
       "version_major": 2,
       "version_minor": 0
      },
      "text/plain": [
       "HBox(children=(FigureWidget({\n",
       "    'data': [{'fill': 'toself',\n",
       "              'fillcolor': 'rgba(31, 119, 180, 0…"
      ]
     },
     "metadata": {},
     "output_type": "display_data"
    },
    {
     "data": {
      "application/vnd.jupyter.widget-view+json": {
       "model_id": "fd819a2dd05c4d1cb8ee70a6dd0c00a9",
       "version_major": 2,
       "version_minor": 0
      },
      "text/plain": [
       "HBox(children=(FigureWidget({\n",
       "    'data': [{'fill': 'toself',\n",
       "              'fillcolor': 'rgba(31, 119, 180, 0…"
      ]
     },
     "metadata": {},
     "output_type": "display_data"
    }
   ],
   "source": [
    "display(mod_viewer.plot_accuracy_mse(df_flat[1]))\n",
    "\n",
    "display(mod_viewer.plot_accuracy_mse(df_flat[0]))"
   ]
  },
  {
   "cell_type": "markdown",
   "metadata": {},
   "source": [
    "## Mean conditional accuracy on validation set  (cross-validation)\n",
    "\n",
    "* Mean conditional accuracy on validation set (cross-validation) according to selection metric\n",
    "* Confidence interval estimated by bootstrap method over cross-validation repetitions\n",
    "\n",
    "(clicking on labels adds/removes traces, double-clicking selects single trace)\n",
    "\n",
    "Figures: **original dataset** (top), **new dataset** (bottom)"
   ]
  },
  {
   "cell_type": "code",
   "execution_count": 7,
   "metadata": {
    "scrolled": false
   },
   "outputs": [
    {
     "data": {
      "application/vnd.jupyter.widget-view+json": {
       "model_id": "e045bf45a03e419984acb6839d33d10b",
       "version_major": 2,
       "version_minor": 0
      },
      "text/plain": [
       "Tab(children=(HBox(children=(FigureWidget({\n",
       "    'data': [{'line': {'color': 'rgba(31, 119, 180, 0.6)'},\n",
       "      …"
      ]
     },
     "metadata": {},
     "output_type": "display_data"
    },
    {
     "data": {
      "application/vnd.jupyter.widget-view+json": {
       "model_id": "057796bebec049a0970b1b56141de835",
       "version_major": 2,
       "version_minor": 0
      },
      "text/plain": [
       "Tab(children=(HBox(children=(FigureWidget({\n",
       "    'data': [{'line': {'color': 'rgba(31, 119, 180, 0.6)'},\n",
       "      …"
      ]
     },
     "metadata": {},
     "output_type": "display_data"
    }
   ],
   "source": [
    "display(mod_viewer.tab_plot_conditional_accuracy(\n",
    "    df_flat[1],\n",
    "    df_flat_ca[1],\n",
    "    info_flat\n",
    "))\n",
    "\n",
    "display(mod_viewer.tab_plot_conditional_accuracy(\n",
    "    df_flat[0],\n",
    "    df_flat_ca[0],\n",
    "    info_flat\n",
    "))"
   ]
  },
  {
   "cell_type": "markdown",
   "metadata": {},
   "source": [
    "# Model validation"
   ]
  },
  {
   "cell_type": "markdown",
   "metadata": {},
   "source": [
    "## Mean accuracy on holdout set\n",
    "\n",
    "* Accuracy on holdout set according to selection metric\n",
    "* Holdout accuracy outside confidence interval bounds may indicate (1) model overfitting or (2) data domain shift\n",
    "\n",
    "(clicking on labels adds/removes traces, double-clicking selects single trace)\n",
    "\n",
    "Figures: **original dataset** (top), **new dataset** (bottom)"
   ]
  },
  {
   "cell_type": "code",
   "execution_count": 8,
   "metadata": {},
   "outputs": [
    {
     "data": {
      "application/vnd.jupyter.widget-view+json": {
       "model_id": "bdafb44efbcf49cab2dbde402cd871e1",
       "version_major": 2,
       "version_minor": 0
      },
      "text/plain": [
       "Tab(children=(HBox(children=(FigureWidget({\n",
       "    'data': [{'fill': 'toself',\n",
       "              'fillcolor': 'rgba(3…"
      ]
     },
     "metadata": {},
     "output_type": "display_data"
    },
    {
     "data": {
      "application/vnd.jupyter.widget-view+json": {
       "model_id": "6b1e59d1690b44c686288cb2bb83876f",
       "version_major": 2,
       "version_minor": 0
      },
      "text/plain": [
       "Tab(children=(HBox(children=(FigureWidget({\n",
       "    'data': [{'fill': 'toself',\n",
       "              'fillcolor': 'rgba(3…"
      ]
     },
     "metadata": {},
     "output_type": "display_data"
    }
   ],
   "source": [
    "display(mod_viewer.tab_plot_accuracy(\n",
    "    df_flat[1],\n",
    "    info_flat,\n",
    "    df_questions_holdout=df_flat_val[1]\n",
    "))\n",
    "\n",
    "display(mod_viewer.tab_plot_accuracy(\n",
    "    df_flat[0],\n",
    "    info_flat,\n",
    "    df_questions_holdout=df_flat_val[0]\n",
    "))"
   ]
  },
  {
   "cell_type": "markdown",
   "metadata": {},
   "source": [
    "## Mean conditional accuracy on validation set\n",
    "\n",
    "* Accuracy on holdout set according to selection metric\n",
    "* Holdout accuracy outside confidence interval bounds may indicate (1) model overfitting or (2) data domain shift\n",
    "\n",
    "(clicking on labels adds/removes traces, double-clicking selects single trace)\n",
    "\n",
    "Figures: **original dataset** (top), **new dataset** (bottom)"
   ]
  },
  {
   "cell_type": "code",
   "execution_count": 9,
   "metadata": {
    "scrolled": false
   },
   "outputs": [
    {
     "data": {
      "application/vnd.jupyter.widget-view+json": {
       "model_id": "7b4a30d131f34250b36b4197702a7e4c",
       "version_major": 2,
       "version_minor": 0
      },
      "text/plain": [
       "Tab(children=(HBox(children=(FigureWidget({\n",
       "    'data': [{'line': {'color': 'rgba(31, 119, 180, 0.6)'},\n",
       "      …"
      ]
     },
     "metadata": {},
     "output_type": "display_data"
    },
    {
     "data": {
      "application/vnd.jupyter.widget-view+json": {
       "model_id": "c732aff4b8c74d5293bb30c2328e5bf0",
       "version_major": 2,
       "version_minor": 0
      },
      "text/plain": [
       "Tab(children=(HBox(children=(FigureWidget({\n",
       "    'data': [{'line': {'color': 'rgba(31, 119, 180, 0.6)'},\n",
       "      …"
      ]
     },
     "metadata": {},
     "output_type": "display_data"
    }
   ],
   "source": [
    "display(mod_viewer.tab_plot_conditional_accuracy(\n",
    "    df_flat_val[1],\n",
    "    df_flat_val_ca[1],\n",
    "    info_flat,\n",
    "    holdout=True\n",
    "))\n",
    "\n",
    "display(mod_viewer.tab_plot_conditional_accuracy(\n",
    "    df_flat_val[0],\n",
    "    df_flat_val_ca[0],\n",
    "    info_flat,\n",
    "    holdout=True\n",
    "))"
   ]
  }
 ],
 "metadata": {
  "kernelspec": {
   "display_name": "Python 3",
   "language": "python",
   "name": "python3"
  },
  "language_info": {
   "codemirror_mode": {
    "name": "ipython",
    "version": 3
   },
   "file_extension": ".py",
   "mimetype": "text/x-python",
   "name": "python",
   "nbconvert_exporter": "python",
   "pygments_lexer": "ipython3",
   "version": "3.6.8"
  }
 },
 "nbformat": 4,
 "nbformat_minor": 2
}
