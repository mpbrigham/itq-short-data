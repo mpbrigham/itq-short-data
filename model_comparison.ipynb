{
 "cells": [
  {
   "cell_type": "markdown",
   "metadata": {},
   "source": [
    "# Model comparison\n",
    "# Drop pi questions with selection metric on train set\n",
    "\n",
    "Reduced models were obtained by the following procedure:\n",
    "* drop all questions from sum score PI\n",
    "* drop next question according to selection metric on **train set**\n",
    "\n",
    "Selection metric criteria:\n",
    "* `ca`: min of mean conditional accuracy\n",
    "* `ca_class`: max of min conditional accuracy\n",
    "* `ca_prod`: max of product conditional accuracy\n",
    "* `mse`: min of mean square error\n",
    "* `mse_class`: min of max conditional mean square error\n",
    "* `xent` min of cross-entropy\n",
    "* `xent_class` min of max cross-entropy\n",
    "\n",
    "http://jmlr.csail.mit.edu/papers/volume3/guyon03a/guyon03a.pdf"
   ]
  },
  {
   "cell_type": "markdown",
   "metadata": {},
   "source": [
    "## Environment initialization"
   ]
  },
  {
   "cell_type": "code",
   "execution_count": 1,
   "metadata": {},
   "outputs": [
    {
     "data": {
      "application/javascript": [
       "IPython.notebook.set_autosave_interval(0)"
      ]
     },
     "metadata": {},
     "output_type": "display_data"
    },
    {
     "name": "stdout",
     "output_type": "stream",
     "text": [
      "Autosave disabled\n"
     ]
    }
   ],
   "source": [
    "%autosave 0\n",
    "%matplotlib notebook\n",
    "%load_ext autoreload\n",
    "%autoreload 2\n",
    "\n",
    "import ipywidgets as widgets\n",
    "import plotly.graph_objects as go\n",
    "\n",
    "import mod_evaluation\n",
    "import mod_viewer"
   ]
  },
  {
   "cell_type": "markdown",
   "metadata": {},
   "source": [
    "## Execution params"
   ]
  },
  {
   "cell_type": "code",
   "execution_count": 2,
   "metadata": {},
   "outputs": [],
   "source": [
    "results_path = 'data/results'\n",
    "\n",
    "model_ref_id = 'linear'\n",
    "\n",
    "n_splits = 50\n",
    "\n",
    "metrics = mod_evaluation.sort_params_train\n",
    "\n",
    "train_val_random = None"
   ]
  },
  {
   "cell_type": "code",
   "execution_count": 3,
   "metadata": {},
   "outputs": [],
   "source": [
    "cache_pre = 'model_'+model_ref_id\n",
    "cache_post = str(n_splits)\n",
    "\n",
    "if train_val_random is not None:\n",
    "    cache_post += '_r'+str(train_val_random)"
   ]
  },
  {
   "cell_type": "markdown",
   "metadata": {},
   "source": [
    "## Load results"
   ]
  },
  {
   "cell_type": "code",
   "execution_count": 4,
   "metadata": {},
   "outputs": [
    {
     "name": "stdout",
     "output_type": "stream",
     "text": [
      "Found categorical_accuracy\n",
      "Found categorical_accuracy_class\n",
      "Found categorical_accuracy_class_prod\n",
      "Found cross_entropy\n",
      "Found cross_entropy_class\n",
      "Found mean_squared_error\n",
      "Found mean_squared_error_class\n"
     ]
    },
    {
     "ename": "TypeError",
     "evalue": "get_df_questions_ca() got an unexpected keyword argument 'ci'",
     "output_type": "error",
     "traceback": [
      "\u001b[0;31m---------------------------------------------------------------------------\u001b[0m",
      "\u001b[0;31mTypeError\u001b[0m                                 Traceback (most recent call last)",
      "\u001b[0;32m<ipython-input-4-b9a3c62fe438>\u001b[0m in \u001b[0;36m<module>\u001b[0;34m\u001b[0m\n\u001b[1;32m     10\u001b[0m df_questions_ca, df_questions_val_ca = mod_evaluation.get_df_questions_ca(\n\u001b[1;32m     11\u001b[0m     \u001b[0minfo\u001b[0m\u001b[0;34m,\u001b[0m \u001b[0mstats\u001b[0m\u001b[0;34m,\u001b[0m \u001b[0mstats_val\u001b[0m\u001b[0;34m,\u001b[0m\u001b[0;34m\u001b[0m\u001b[0m\n\u001b[0;32m---> 12\u001b[0;31m     \u001b[0mci\u001b[0m\u001b[0;34m=\u001b[0m\u001b[0;32mFalse\u001b[0m\u001b[0;34m\u001b[0m\u001b[0m\n\u001b[0m\u001b[1;32m     13\u001b[0m )\n",
      "\u001b[0;31mTypeError\u001b[0m: get_df_questions_ca() got an unexpected keyword argument 'ci'"
     ]
    }
   ],
   "source": [
    "info, stats, stats_val = mod_evaluation.get_info_stats(\n",
    "    results_path, cache_pre, cache_post, metrics\n",
    ")\n",
    "\n",
    "df_questions, df_questions_val = mod_evaluation.get_df_questions(\n",
    "    info, stats, stats_val, \n",
    "    ci=True\n",
    ")\n",
    "\n",
    "df_questions_ca, df_questions_val_ca = mod_evaluation.get_df_questions_ca(\n",
    "    info, stats, stats_val\n",
    ")"
   ]
  },
  {
   "cell_type": "markdown",
   "metadata": {},
   "source": [
    "# Model comparison"
   ]
  },
  {
   "cell_type": "markdown",
   "metadata": {},
   "source": [
    "## Mean accuracy on validation set (cross-validation)\n",
    "\n",
    "* Mean accuracy on validation set (cross-validation) according to selection metric\n",
    "* Confidence interval estimated by bootstrap method over cross-validation repetitions\n",
    "\n",
    "(clicking on labels adds/removes traces, double-clicking selects single trace)\n",
    "\n",
    "* `ca`: min of mean conditional accuracy\n",
    "* `ca_class`: max of min conditional accuracy\n",
    "* `ca_prod`: max of product conditional accuracy\n",
    "* `mse`: min of mean square error\n",
    "* `mse_class`: min of max conditional mean square error\n",
    "* `xent` min of cross-entropy\n",
    "* `xent_class` min of max cross-entropy"
   ]
  },
  {
   "cell_type": "code",
   "execution_count": null,
   "metadata": {},
   "outputs": [],
   "source": [
    "mod_viewer.plot_accuracy_mse(df_questions)"
   ]
  },
  {
   "cell_type": "markdown",
   "metadata": {},
   "source": [
    "## Mean conditional accuracy on validation set  (cross-validation)\n",
    "\n",
    "* Mean conditional accuracy on validation set (cross-validation) according to selection metric\n",
    "* Confidence interval estimated by bootstrap method over cross-validation repetitions\n",
    "\n",
    "(clicking on labels adds/removes traces, double-clicking selects single trace)"
   ]
  },
  {
   "cell_type": "code",
   "execution_count": null,
   "metadata": {
    "scrolled": false
   },
   "outputs": [],
   "source": [
    "mod_viewer.tab_plot_conditional_accuracy(\n",
    "    df_questions,\n",
    "    df_questions_ca,\n",
    "    info\n",
    ")"
   ]
  },
  {
   "cell_type": "markdown",
   "metadata": {},
   "source": [
    "# Model validation"
   ]
  },
  {
   "cell_type": "markdown",
   "metadata": {},
   "source": [
    "## Mean accuracy on holdout set\n",
    "\n",
    "* Accuracy on holdout set according to selection metric\n",
    "* Holdout accuracy outside confidence interval bounds may indicate (1) model overfitting or (2) data domain shift\n",
    "\n",
    "(clicking on labels adds/removes traces, double-clicking selects single trace)"
   ]
  },
  {
   "cell_type": "code",
   "execution_count": null,
   "metadata": {},
   "outputs": [],
   "source": [
    "mod_viewer.tab_plot_accuracy(\n",
    "    df_questions,\n",
    "    info,\n",
    "    df_questions_holdout=df_questions_val\n",
    ")"
   ]
  },
  {
   "cell_type": "markdown",
   "metadata": {},
   "source": [
    "## Mean conditional accuracy on validation set\n",
    "\n",
    "* Accuracy on holdout set according to selection metric\n",
    "* Holdout accuracy outside confidence interval bounds may indicate (1) model overfitting or (2) data domain shift\n",
    "\n",
    "(clicking on labels adds/removes traces, double-clicking selects single trace)"
   ]
  },
  {
   "cell_type": "code",
   "execution_count": null,
   "metadata": {},
   "outputs": [],
   "source": [
    "mod_viewer.tab_plot_conditional_accuracy(\n",
    "    df_questions_val,\n",
    "    df_questions_val_ca,\n",
    "    info,\n",
    "    holdout=True\n",
    ")"
   ]
  }
 ],
 "metadata": {
  "kernelspec": {
   "display_name": "Python 3",
   "language": "python",
   "name": "python3"
  },
  "language_info": {
   "codemirror_mode": {
    "name": "ipython",
    "version": 3
   },
   "file_extension": ".py",
   "mimetype": "text/x-python",
   "name": "python",
   "nbconvert_exporter": "python",
   "pygments_lexer": "ipython3",
   "version": "3.5.2"
  }
 },
 "nbformat": 4,
 "nbformat_minor": 2
}
